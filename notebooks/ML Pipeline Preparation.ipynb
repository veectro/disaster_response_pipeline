{
 "cells": [
  {
   "cell_type": "markdown",
   "metadata": {},
   "source": [
    "# ML Pipeline Preparation\n",
    "Follow the instructions below to help you create your ML pipeline.\n",
    "### 1. Import libraries and load data from database.\n",
    "- Import Python libraries\n",
    "- Load dataset from database with [`read_sql_table`](https://pandas.pydata.org/pandas-docs/stable/generated/pandas.read_sql_table.html)\n",
    "- Define feature and target variables X and Y"
   ]
  },
  {
   "cell_type": "code",
   "execution_count": 1,
   "metadata": {},
   "outputs": [],
   "source": [
    "# import libraries\n",
    "import os\n",
    "import re\n",
    "import pandas as pd\n",
    "import pickle\n",
    "from sqlalchemy import create_engine\n",
    "\n",
    "from sklearn.model_selection import train_test_split\n",
    "from sklearn.pipeline import Pipeline\n",
    "from sklearn.model_selection import GridSearchCV\n",
    "from sklearn.ensemble import RandomForestClassifier, AdaBoostClassifier\n",
    "from sklearn.multiclass import OneVsRestClassifier\n",
    "from sklearn.naive_bayes import MultinomialNB\n",
    "from sklearn.tree import DecisionTreeClassifier\n",
    "from sklearn.svm import SVC\n",
    "from sklearn.neighbors import KNeighborsClassifier\n",
    "from sklearn.multioutput import MultiOutputClassifier\n",
    "from sklearn.feature_extraction.text import CountVectorizer, TfidfTransformer\n",
    "from sklearn.metrics import classification_report, f1_score, accuracy_score"
   ]
  },
  {
   "cell_type": "code",
   "execution_count": 2,
   "metadata": {},
   "outputs": [
    {
     "name": "stderr",
     "output_type": "stream",
     "text": [
      "[nltk_data] Downloading package punkt to /home/sfrozy/nltk_data...\n",
      "[nltk_data]   Package punkt is already up-to-date!\n",
      "[nltk_data] Downloading package wordnet to /home/sfrozy/nltk_data...\n",
      "[nltk_data]   Package wordnet is already up-to-date!\n",
      "[nltk_data] Downloading package stopwords to /home/sfrozy/nltk_data...\n",
      "[nltk_data]   Package stopwords is already up-to-date!\n"
     ]
    },
    {
     "data": {
      "text/plain": "True"
     },
     "execution_count": 2,
     "metadata": {},
     "output_type": "execute_result"
    }
   ],
   "source": [
    "# import & download nltk-library\n",
    "import nltk\n",
    "from nltk.tokenize import word_tokenize \n",
    "from nltk.stem import WordNetLemmatizer\n",
    "nltk.download(['punkt', 'wordnet', 'stopwords'])"
   ]
  },
  {
   "cell_type": "code",
   "execution_count": 3,
   "metadata": {},
   "outputs": [
    {
     "name": "stdout",
     "output_type": "stream",
     "text": [
      "Requirement already satisfied: ipython-autotime in /home/sfrozy/anaconda3/envs/disaster_response_pipeline/lib/python3.8/site-packages (0.3.0)\r\n",
      "Requirement already satisfied: ipython in /home/sfrozy/anaconda3/envs/disaster_response_pipeline/lib/python3.8/site-packages (from ipython-autotime) (7.19.0)\r\n",
      "Requirement already satisfied: jedi>=0.10 in /home/sfrozy/anaconda3/envs/disaster_response_pipeline/lib/python3.8/site-packages (from ipython->ipython-autotime) (0.18.0)\r\n",
      "Requirement already satisfied: traitlets>=4.2 in /home/sfrozy/anaconda3/envs/disaster_response_pipeline/lib/python3.8/site-packages (from ipython->ipython-autotime) (5.0.5)\r\n",
      "Requirement already satisfied: pygments in /home/sfrozy/anaconda3/envs/disaster_response_pipeline/lib/python3.8/site-packages (from ipython->ipython-autotime) (2.7.3)\r\n",
      "Requirement already satisfied: backcall in /home/sfrozy/anaconda3/envs/disaster_response_pipeline/lib/python3.8/site-packages (from ipython->ipython-autotime) (0.2.0)\r\n",
      "Requirement already satisfied: pexpect>4.3 in /home/sfrozy/anaconda3/envs/disaster_response_pipeline/lib/python3.8/site-packages (from ipython->ipython-autotime) (4.8.0)\r\n",
      "Requirement already satisfied: setuptools>=18.5 in /home/sfrozy/anaconda3/envs/disaster_response_pipeline/lib/python3.8/site-packages (from ipython->ipython-autotime) (51.0.0.post20201207)\r\n",
      "Requirement already satisfied: prompt-toolkit!=3.0.0,!=3.0.1,<3.1.0,>=2.0.0 in /home/sfrozy/anaconda3/envs/disaster_response_pipeline/lib/python3.8/site-packages (from ipython->ipython-autotime) (3.0.8)\r\n",
      "Requirement already satisfied: pickleshare in /home/sfrozy/anaconda3/envs/disaster_response_pipeline/lib/python3.8/site-packages (from ipython->ipython-autotime) (0.7.5)\r\n",
      "Requirement already satisfied: decorator in /home/sfrozy/anaconda3/envs/disaster_response_pipeline/lib/python3.8/site-packages (from ipython->ipython-autotime) (4.4.2)\r\n",
      "Requirement already satisfied: parso<0.9.0,>=0.8.0 in /home/sfrozy/anaconda3/envs/disaster_response_pipeline/lib/python3.8/site-packages (from jedi>=0.10->ipython->ipython-autotime) (0.8.1)\r\n",
      "Requirement already satisfied: ptyprocess>=0.5 in /home/sfrozy/anaconda3/envs/disaster_response_pipeline/lib/python3.8/site-packages (from pexpect>4.3->ipython->ipython-autotime) (0.7.0)\r\n",
      "Requirement already satisfied: wcwidth in /home/sfrozy/anaconda3/envs/disaster_response_pipeline/lib/python3.8/site-packages (from prompt-toolkit!=3.0.0,!=3.0.1,<3.1.0,>=2.0.0->ipython->ipython-autotime) (0.2.5)\r\n",
      "Requirement already satisfied: ipython-genutils in /home/sfrozy/anaconda3/envs/disaster_response_pipeline/lib/python3.8/site-packages (from traitlets>=4.2->ipython->ipython-autotime) (0.2.0)\r\n",
      "time: 354 µs (started: 2021-01-05 03:17:50 +01:00)\n"
     ]
    }
   ],
   "source": [
    "# installing execution time measurement tools \n",
    "!pip install ipython-autotime\n",
    "%load_ext autotime"
   ]
  },
  {
   "cell_type": "code",
   "execution_count": 4,
   "metadata": {},
   "outputs": [
    {
     "data": {
      "text/plain": "   id                                            message  \\\n0   2  Weather update - a cold front from Cuba that c...   \n1   7            Is the Hurricane over or is it not over   \n2   8                    Looking for someone but no name   \n3   9  UN reports Leogane 80-90 destroyed. Only Hospi...   \n4  12  says: west side of Haiti, rest of the country ...   \n\n                                            original   genre  \\\n0  Un front froid se retrouve sur Cuba ce matin. ...  direct   \n1                 Cyclone nan fini osinon li pa fini  direct   \n2  Patnm, di Maryani relem pou li banm nouvel li ...  direct   \n3  UN reports Leogane 80-90 destroyed. Only Hospi...  direct   \n4  facade ouest d Haiti et le reste du pays aujou...  direct   \n\n   category:related  category:request  category:offer  category:aid_related  \\\n0                 1                 0               0                     0   \n1                 1                 0               0                     1   \n2                 1                 0               0                     0   \n3                 1                 1               0                     1   \n4                 1                 0               0                     0   \n\n   category:medical_help  category:medical_products  ...  \\\n0                      0                          0  ...   \n1                      0                          0  ...   \n2                      0                          0  ...   \n3                      0                          1  ...   \n4                      0                          0  ...   \n\n   category:aid_centers  category:other_infrastructure  \\\n0                     0                              0   \n1                     0                              0   \n2                     0                              0   \n3                     0                              0   \n4                     0                              0   \n\n   category:weather_related  category:floods  category:storm  category:fire  \\\n0                         0                0               0              0   \n1                         1                0               1              0   \n2                         0                0               0              0   \n3                         0                0               0              0   \n4                         0                0               0              0   \n\n   category:earthquake  category:cold  category:other_weather  \\\n0                    0              0                       0   \n1                    0              0                       0   \n2                    0              0                       0   \n3                    0              0                       0   \n4                    0              0                       0   \n\n   category:direct_report  \n0                       0  \n1                       0  \n2                       0  \n3                       0  \n4                       0  \n\n[5 rows x 39 columns]",
      "text/html": "<div>\n<style scoped>\n    .dataframe tbody tr th:only-of-type {\n        vertical-align: middle;\n    }\n\n    .dataframe tbody tr th {\n        vertical-align: top;\n    }\n\n    .dataframe thead th {\n        text-align: right;\n    }\n</style>\n<table border=\"1\" class=\"dataframe\">\n  <thead>\n    <tr style=\"text-align: right;\">\n      <th></th>\n      <th>id</th>\n      <th>message</th>\n      <th>original</th>\n      <th>genre</th>\n      <th>category:related</th>\n      <th>category:request</th>\n      <th>category:offer</th>\n      <th>category:aid_related</th>\n      <th>category:medical_help</th>\n      <th>category:medical_products</th>\n      <th>...</th>\n      <th>category:aid_centers</th>\n      <th>category:other_infrastructure</th>\n      <th>category:weather_related</th>\n      <th>category:floods</th>\n      <th>category:storm</th>\n      <th>category:fire</th>\n      <th>category:earthquake</th>\n      <th>category:cold</th>\n      <th>category:other_weather</th>\n      <th>category:direct_report</th>\n    </tr>\n  </thead>\n  <tbody>\n    <tr>\n      <th>0</th>\n      <td>2</td>\n      <td>Weather update - a cold front from Cuba that c...</td>\n      <td>Un front froid se retrouve sur Cuba ce matin. ...</td>\n      <td>direct</td>\n      <td>1</td>\n      <td>0</td>\n      <td>0</td>\n      <td>0</td>\n      <td>0</td>\n      <td>0</td>\n      <td>...</td>\n      <td>0</td>\n      <td>0</td>\n      <td>0</td>\n      <td>0</td>\n      <td>0</td>\n      <td>0</td>\n      <td>0</td>\n      <td>0</td>\n      <td>0</td>\n      <td>0</td>\n    </tr>\n    <tr>\n      <th>1</th>\n      <td>7</td>\n      <td>Is the Hurricane over or is it not over</td>\n      <td>Cyclone nan fini osinon li pa fini</td>\n      <td>direct</td>\n      <td>1</td>\n      <td>0</td>\n      <td>0</td>\n      <td>1</td>\n      <td>0</td>\n      <td>0</td>\n      <td>...</td>\n      <td>0</td>\n      <td>0</td>\n      <td>1</td>\n      <td>0</td>\n      <td>1</td>\n      <td>0</td>\n      <td>0</td>\n      <td>0</td>\n      <td>0</td>\n      <td>0</td>\n    </tr>\n    <tr>\n      <th>2</th>\n      <td>8</td>\n      <td>Looking for someone but no name</td>\n      <td>Patnm, di Maryani relem pou li banm nouvel li ...</td>\n      <td>direct</td>\n      <td>1</td>\n      <td>0</td>\n      <td>0</td>\n      <td>0</td>\n      <td>0</td>\n      <td>0</td>\n      <td>...</td>\n      <td>0</td>\n      <td>0</td>\n      <td>0</td>\n      <td>0</td>\n      <td>0</td>\n      <td>0</td>\n      <td>0</td>\n      <td>0</td>\n      <td>0</td>\n      <td>0</td>\n    </tr>\n    <tr>\n      <th>3</th>\n      <td>9</td>\n      <td>UN reports Leogane 80-90 destroyed. Only Hospi...</td>\n      <td>UN reports Leogane 80-90 destroyed. Only Hospi...</td>\n      <td>direct</td>\n      <td>1</td>\n      <td>1</td>\n      <td>0</td>\n      <td>1</td>\n      <td>0</td>\n      <td>1</td>\n      <td>...</td>\n      <td>0</td>\n      <td>0</td>\n      <td>0</td>\n      <td>0</td>\n      <td>0</td>\n      <td>0</td>\n      <td>0</td>\n      <td>0</td>\n      <td>0</td>\n      <td>0</td>\n    </tr>\n    <tr>\n      <th>4</th>\n      <td>12</td>\n      <td>says: west side of Haiti, rest of the country ...</td>\n      <td>facade ouest d Haiti et le reste du pays aujou...</td>\n      <td>direct</td>\n      <td>1</td>\n      <td>0</td>\n      <td>0</td>\n      <td>0</td>\n      <td>0</td>\n      <td>0</td>\n      <td>...</td>\n      <td>0</td>\n      <td>0</td>\n      <td>0</td>\n      <td>0</td>\n      <td>0</td>\n      <td>0</td>\n      <td>0</td>\n      <td>0</td>\n      <td>0</td>\n      <td>0</td>\n    </tr>\n  </tbody>\n</table>\n<p>5 rows × 39 columns</p>\n</div>"
     },
     "execution_count": 4,
     "metadata": {},
     "output_type": "execute_result"
    },
    {
     "name": "stdout",
     "output_type": "stream",
     "text": [
      "time: 281 ms (started: 2021-01-05 03:17:50 +01:00)\n"
     ]
    }
   ],
   "source": [
    "# load data from database\n",
    "engine = create_engine('sqlite:///db/disaster_messages_db.db')\n",
    "\n",
    "sqlquery = \"SELECT * FROM disaster_messages;\"\n",
    "df = pd.read_sql(sqlquery, con=engine)\n",
    "df.head()"
   ]
  },
  {
   "cell_type": "code",
   "execution_count": 5,
   "metadata": {},
   "outputs": [
    {
     "name": "stdout",
     "output_type": "stream",
     "text": [
      "X-shape (26028,) and Y-shape (26028, 35)\n",
      "time: 1.58 ms (started: 2021-01-05 03:17:50 +01:00)\n"
     ]
    }
   ],
   "source": [
    "# splitting dataset into X (feature-data) and Y (label-data)\n",
    "X = df['message']\n",
    "Y = df.iloc[:, 4:] # the last 36(categories)-column\n",
    "print(f'X-shape {X.shape} and Y-shape {Y.shape}')"
   ]
  },
  {
   "cell_type": "markdown",
   "metadata": {},
   "source": [
    "### 2. Write a tokenization function to process your text data"
   ]
  },
  {
   "cell_type": "code",
   "execution_count": 6,
   "metadata": {},
   "outputs": [
    {
     "name": "stdout",
     "output_type": "stream",
     "text": [
      "time: 11.4 ms (started: 2021-01-05 03:17:50 +01:00)\n"
     ]
    }
   ],
   "source": [
    "url_regex = 'http[s]?://(?:[a-zA-Z]|[0-9]|[$-_@.&+]|[!*\\(\\),]|(?:%[0-9a-fA-F][0-9a-fA-F]))+'\n",
    "\n",
    "def tokenize(text: str, url_regex:str = url_regex):\n",
    "    # get list of all urls using regex\n",
    "    detected_urls = re.findall(url_regex, text)\n",
    "    \n",
    "    # replace each url in text string with placeholder\n",
    "    for url in detected_urls:\n",
    "        text = text.replace(url, 'placeholder')\n",
    "\n",
    "    # tokenize text\n",
    "    tokens = word_tokenize(text)\n",
    "    \n",
    "    # initiate lemmatizer\n",
    "    lemmatizer = WordNetLemmatizer()\n",
    "\n",
    "    # iterate through each token\n",
    "    clean_tokens = []\n",
    "    for tok in tokens:\n",
    "        \n",
    "        # lemmatize, normalize case, and remove leading/trailing white space\n",
    "        clean_tok = lemmatizer.lemmatize(tok).lower().strip()\n",
    "        clean_tokens.append(clean_tok)\n",
    "\n",
    "    return clean_tokens"
   ]
  },
  {
   "cell_type": "code",
   "execution_count": 7,
   "metadata": {},
   "outputs": [
    {
     "data": {
      "text/plain": "'Is the Hurricane over or is it not over'"
     },
     "execution_count": 7,
     "metadata": {},
     "output_type": "execute_result"
    },
    {
     "name": "stdout",
     "output_type": "stream",
     "text": [
      "time: 8.09 ms (started: 2021-01-05 03:17:50 +01:00)\n"
     ]
    }
   ],
   "source": [
    "X[1]"
   ]
  },
  {
   "cell_type": "code",
   "execution_count": 8,
   "metadata": {},
   "outputs": [
    {
     "data": {
      "text/plain": "['is', 'the', 'hurricane', 'over', 'or', 'is', 'it', 'not', 'over']"
     },
     "execution_count": 8,
     "metadata": {},
     "output_type": "execute_result"
    },
    {
     "name": "stdout",
     "output_type": "stream",
     "text": [
      "time: 974 ms (started: 2021-01-05 03:17:50 +01:00)\n"
     ]
    }
   ],
   "source": [
    "tokenize(X[1])"
   ]
  },
  {
   "cell_type": "markdown",
   "metadata": {},
   "source": [
    "### 3. Build a machine learning pipeline\n",
    "This machine pipeline should take in the `message` column as input and output classification results on the other 36 categories in the dataset. You may find the [MultiOutputClassifier](http://scikit-learn.org/stable/modules/generated/sklearn.multioutput.MultiOutputClassifier.html) helpful for predicting multiple target variables."
   ]
  },
  {
   "cell_type": "code",
   "execution_count": 9,
   "metadata": {},
   "outputs": [
    {
     "name": "stdout",
     "output_type": "stream",
     "text": [
      "time: 404 µs (started: 2021-01-05 03:17:51 +01:00)\n"
     ]
    }
   ],
   "source": [
    "rfc_pipeline = Pipeline([\n",
    "        ('text_pipeline', Pipeline([\n",
    "            ('vect', CountVectorizer(tokenizer=tokenize)),\n",
    "            ('tfidf', TfidfTransformer())\n",
    "        ])),\n",
    "        ('rfc_classifier', MultiOutputClassifier(RandomForestClassifier(n_jobs=-1)))\n",
    "    ])"
   ]
  },
  {
   "cell_type": "markdown",
   "metadata": {},
   "source": [
    "### 4. Train pipeline\n",
    "- Split data into train and test sets\n",
    "- Train pipeline"
   ]
  },
  {
   "cell_type": "code",
   "execution_count": 14,
   "metadata": {},
   "outputs": [
    {
     "name": "stdout",
     "output_type": "stream",
     "text": [
      "time: 7.71 ms (started: 2021-01-05 03:18:38 +01:00)\n"
     ]
    }
   ],
   "source": [
    "X_train, X_test, Y_train, Y_test = train_test_split(X, Y, random_state=16)"
   ]
  },
  {
   "cell_type": "code",
   "execution_count": 15,
   "outputs": [
    {
     "data": {
      "text/plain": "Pipeline(steps=[('text_pipeline',\n                 Pipeline(steps=[('vect',\n                                  CountVectorizer(tokenizer=<function tokenize at 0x7fcb1b7d7040>)),\n                                 ('tfidf', TfidfTransformer())])),\n                ('rfc_classifier',\n                 MultiOutputClassifier(estimator=RandomForestClassifier(n_jobs=-1)))])"
     },
     "execution_count": 15,
     "metadata": {},
     "output_type": "execute_result"
    },
    {
     "name": "stdout",
     "output_type": "stream",
     "text": [
      "time: 27.7 s (started: 2021-01-05 03:18:40 +01:00)\n"
     ]
    }
   ],
   "source": [
    "rfc_pipeline.fit(X_train, Y_train)"
   ],
   "metadata": {
    "collapsed": false,
    "pycharm": {
     "name": "#%%\n"
    }
   }
  },
  {
   "cell_type": "markdown",
   "metadata": {},
   "source": [
    "### 5. Test your model\n",
    "Report the f1 score, precision and recall for each output category of the dataset. You can do this by iterating through the columns and calling sklearn's `classification_report` on each."
   ]
  },
  {
   "cell_type": "code",
   "execution_count": null,
   "outputs": [],
   "source": [
    "# predict with the pipeline"
   ],
   "metadata": {
    "collapsed": false,
    "pycharm": {
     "name": "#%%\n"
    }
   }
  },
  {
   "cell_type": "code",
   "execution_count": 16,
   "outputs": [
    {
     "name": "stdout",
     "output_type": "stream",
     "text": [
      "----Classification Report for category :category:related\n",
      "\n",
      "              precision    recall  f1-score   support\n",
      "\n",
      "           0       0.73      0.26      0.38      1551\n",
      "           1       0.81      0.97      0.88      4956\n",
      "\n",
      "    accuracy                           0.80      6507\n",
      "   macro avg       0.77      0.61      0.63      6507\n",
      "weighted avg       0.79      0.80      0.76      6507\n",
      "\n",
      "Accuracy 0.8006761948670662\n",
      "\n",
      "F1 0.7620873232219401\n",
      "\n",
      "----Classification Report for category :category:request\n",
      "\n",
      "              precision    recall  f1-score   support\n",
      "\n",
      "           0       0.90      0.99      0.94      5411\n",
      "           1       0.89      0.45      0.60      1096\n",
      "\n",
      "    accuracy                           0.90      6507\n",
      "   macro avg       0.90      0.72      0.77      6507\n",
      "weighted avg       0.90      0.90      0.88      6507\n",
      "\n",
      "Accuracy 0.8978023666820347\n",
      "\n",
      "F1 0.8831950472560569\n",
      "\n",
      "----Classification Report for category :category:offer\n",
      "\n",
      "              precision    recall  f1-score   support\n",
      "\n",
      "           0       0.99      1.00      1.00      6468\n",
      "           1       0.00      0.00      0.00        39\n",
      "\n",
      "    accuracy                           0.99      6507\n",
      "   macro avg       0.50      0.50      0.50      6507\n",
      "weighted avg       0.99      0.99      0.99      6507\n",
      "\n",
      "Accuracy 0.9940064545873675\n",
      "\n",
      "F1 0.9910186895215558\n",
      "\n",
      "----Classification Report for category :category:aid_related\n",
      "\n",
      "              precision    recall  f1-score   support\n",
      "\n",
      "           0       0.77      0.88      0.82      3781\n",
      "           1       0.80      0.63      0.70      2726\n",
      "\n",
      "    accuracy                           0.78      6507\n",
      "   macro avg       0.78      0.76      0.76      6507\n",
      "weighted avg       0.78      0.78      0.77      6507\n",
      "\n",
      "Accuracy 0.7780851390809898\n",
      "\n",
      "F1 0.7729076467719344\n",
      "\n",
      "----Classification Report for category :category:medical_help\n",
      "\n",
      "              precision    recall  f1-score   support\n",
      "\n",
      "           0       0.92      1.00      0.96      5997\n",
      "           1       0.65      0.03      0.06       510\n",
      "\n",
      "    accuracy                           0.92      6507\n",
      "   macro avg       0.79      0.52      0.51      6507\n",
      "weighted avg       0.90      0.92      0.89      6507\n",
      "\n",
      "Accuracy 0.9228523128938066\n",
      "\n",
      "F1 0.889516920450844\n",
      "\n",
      "----Classification Report for category :category:medical_products\n",
      "\n",
      "              precision    recall  f1-score   support\n",
      "\n",
      "           0       0.95      1.00      0.97      6170\n",
      "           1       0.83      0.06      0.11       337\n",
      "\n",
      "    accuracy                           0.95      6507\n",
      "   macro avg       0.89      0.53      0.54      6507\n",
      "weighted avg       0.95      0.95      0.93      6507\n",
      "\n",
      "Accuracy 0.9506685108344859\n",
      "\n",
      "F1 0.9298925839042733\n",
      "\n",
      "----Classification Report for category :category:search_and_rescue\n",
      "\n",
      "              precision    recall  f1-score   support\n",
      "\n",
      "           0       0.97      1.00      0.99      6325\n",
      "           1       0.90      0.05      0.09       182\n",
      "\n",
      "    accuracy                           0.97      6507\n",
      "   macro avg       0.94      0.52      0.54      6507\n",
      "weighted avg       0.97      0.97      0.96      6507\n",
      "\n",
      "Accuracy 0.9732595666205625\n",
      "\n",
      "F1 0.9614614348580655\n",
      "\n",
      "----Classification Report for category :category:security\n",
      "\n",
      "              precision    recall  f1-score   support\n",
      "\n",
      "           0       0.98      1.00      0.99      6376\n",
      "           1       0.00      0.00      0.00       131\n",
      "\n",
      "    accuracy                           0.98      6507\n",
      "   macro avg       0.49      0.50      0.49      6507\n",
      "weighted avg       0.96      0.98      0.97      6507\n",
      "\n",
      "Accuracy 0.979560473336407\n",
      "\n",
      "F1 0.969750419686815\n",
      "\n",
      "----Classification Report for category :category:military\n",
      "\n",
      "              precision    recall  f1-score   support\n",
      "\n",
      "           0       0.97      1.00      0.98      6290\n",
      "           1       0.69      0.04      0.08       217\n",
      "\n",
      "    accuracy                           0.97      6507\n",
      "   macro avg       0.83      0.52      0.53      6507\n",
      "weighted avg       0.96      0.97      0.95      6507\n",
      "\n",
      "Accuracy 0.9674197018595359\n",
      "\n",
      "F1 0.9532309970888818\n",
      "\n",
      "----Classification Report for category :category:water\n",
      "\n",
      "              precision    recall  f1-score   support\n",
      "\n",
      "           0       0.95      1.00      0.97      6065\n",
      "           1       0.91      0.24      0.38       442\n",
      "\n",
      "    accuracy                           0.95      6507\n",
      "   macro avg       0.93      0.62      0.67      6507\n",
      "weighted avg       0.94      0.95      0.93      6507\n",
      "\n",
      "Accuracy 0.946672813892731\n",
      "\n",
      "F1 0.9317192494443702\n",
      "\n",
      "----Classification Report for category :category:food\n",
      "\n",
      "              precision    recall  f1-score   support\n",
      "\n",
      "           0       0.93      0.99      0.96      5765\n",
      "           1       0.88      0.38      0.53       742\n",
      "\n",
      "    accuracy                           0.92      6507\n",
      "   macro avg       0.90      0.69      0.74      6507\n",
      "weighted avg       0.92      0.92      0.91      6507\n",
      "\n",
      "Accuracy 0.9233133548486245\n",
      "\n",
      "F1 0.9094782504597705\n",
      "\n",
      "----Classification Report for category :category:shelter\n",
      "\n",
      "              precision    recall  f1-score   support\n",
      "\n",
      "           0       0.93      1.00      0.96      5902\n",
      "           1       0.89      0.25      0.39       605\n",
      "\n",
      "    accuracy                           0.93      6507\n",
      "   macro avg       0.91      0.62      0.68      6507\n",
      "weighted avg       0.93      0.93      0.91      6507\n",
      "\n",
      "Accuracy 0.9276164130935916\n",
      "\n",
      "F1 0.908588642717646\n",
      "\n",
      "----Classification Report for category :category:clothing\n",
      "\n",
      "              precision    recall  f1-score   support\n",
      "\n",
      "           0       0.99      1.00      0.99      6406\n",
      "           1       0.71      0.05      0.09       101\n",
      "\n",
      "    accuracy                           0.98      6507\n",
      "   macro avg       0.85      0.52      0.54      6507\n",
      "weighted avg       0.98      0.98      0.98      6507\n",
      "\n",
      "Accuracy 0.9849392961426157\n",
      "\n",
      "F1 0.9784399477671544\n",
      "\n",
      "----Classification Report for category :category:money\n",
      "\n",
      "              precision    recall  f1-score   support\n",
      "\n",
      "           0       0.98      1.00      0.99      6357\n",
      "           1       1.00      0.01      0.01       150\n",
      "\n",
      "    accuracy                           0.98      6507\n",
      "   macro avg       0.99      0.50      0.50      6507\n",
      "weighted avg       0.98      0.98      0.97      6507\n",
      "\n",
      "Accuracy 0.9771015829107116\n",
      "\n",
      "F1 0.9659366427008131\n",
      "\n",
      "----Classification Report for category :category:missing_people\n",
      "\n",
      "              precision    recall  f1-score   support\n",
      "\n",
      "           0       0.99      1.00      0.99      6442\n",
      "           1       0.00      0.00      0.00        65\n",
      "\n",
      "    accuracy                           0.99      6507\n",
      "   macro avg       0.50      0.50      0.50      6507\n",
      "weighted avg       0.98      0.99      0.99      6507\n",
      "\n",
      "Accuracy 0.9900107576456124\n",
      "\n",
      "F1 0.9850412079315832\n",
      "\n",
      "----Classification Report for category :category:refugees\n",
      "\n",
      "              precision    recall  f1-score   support\n",
      "\n",
      "           0       0.97      1.00      0.98      6279\n",
      "           1       0.43      0.01      0.03       228\n",
      "\n",
      "    accuracy                           0.96      6507\n",
      "   macro avg       0.70      0.51      0.50      6507\n",
      "weighted avg       0.95      0.96      0.95      6507\n",
      "\n",
      "Accuracy 0.9648071307822346\n",
      "\n",
      "F1 0.9485633071096948\n",
      "\n",
      "----Classification Report for category :category:death\n",
      "\n",
      "              precision    recall  f1-score   support\n",
      "\n",
      "           0       0.96      1.00      0.98      6172\n",
      "           1       0.88      0.14      0.24       335\n",
      "\n",
      "    accuracy                           0.95      6507\n",
      "   macro avg       0.92      0.57      0.61      6507\n",
      "weighted avg       0.95      0.95      0.94      6507\n",
      "\n",
      "Accuracy 0.954664207776241\n",
      "\n",
      "F1 0.9385959821476227\n",
      "\n",
      "----Classification Report for category :category:other_aid\n",
      "\n",
      "              precision    recall  f1-score   support\n",
      "\n",
      "           0       0.87      1.00      0.93      5657\n",
      "           1       0.58      0.01      0.02       850\n",
      "\n",
      "    accuracy                           0.87      6507\n",
      "   macro avg       0.73      0.50      0.47      6507\n",
      "weighted avg       0.83      0.87      0.81      6507\n",
      "\n",
      "Accuracy 0.8696788074381435\n",
      "\n",
      "F1 0.8108258917192116\n",
      "\n",
      "----Classification Report for category :category:infrastructure_related\n",
      "\n",
      "              precision    recall  f1-score   support\n",
      "\n",
      "           0       0.93      1.00      0.97      6071\n",
      "           1       0.25      0.00      0.00       436\n",
      "\n",
      "    accuracy                           0.93      6507\n",
      "   macro avg       0.59      0.50      0.48      6507\n",
      "weighted avg       0.89      0.93      0.90      6507\n",
      "\n",
      "Accuracy 0.9326878745965883\n",
      "\n",
      "F1 0.900800048490171\n",
      "\n",
      "----Classification Report for category :category:transport\n",
      "\n",
      "              precision    recall  f1-score   support\n",
      "\n",
      "           0       0.96      1.00      0.98      6211\n",
      "           1       0.61      0.06      0.10       296\n",
      "\n",
      "    accuracy                           0.96      6507\n",
      "   macro avg       0.78      0.53      0.54      6507\n",
      "weighted avg       0.94      0.96      0.94      6507\n",
      "\n",
      "Accuracy 0.9554326110342708\n",
      "\n",
      "F1 0.937471028452154\n",
      "\n",
      "----Classification Report for category :category:buildings\n",
      "\n",
      "              precision    recall  f1-score   support\n",
      "\n",
      "           0       0.95      1.00      0.97      6153\n",
      "           1       0.81      0.10      0.17       354\n",
      "\n",
      "    accuracy                           0.95      6507\n",
      "   macro avg       0.88      0.55      0.57      6507\n",
      "weighted avg       0.94      0.95      0.93      6507\n",
      "\n",
      "Accuracy 0.9495927462732442\n",
      "\n",
      "F1 0.9303585428129895\n",
      "\n",
      "----Classification Report for category :category:electricity\n",
      "\n",
      "              precision    recall  f1-score   support\n",
      "\n",
      "           0       0.98      1.00      0.99      6355\n",
      "           1       0.67      0.01      0.03       152\n",
      "\n",
      "    accuracy                           0.98      6507\n",
      "   macro avg       0.82      0.51      0.51      6507\n",
      "weighted avg       0.97      0.98      0.97      6507\n",
      "\n",
      "Accuracy 0.9767942216074996\n",
      "\n",
      "F1 0.9657749216829958\n",
      "\n",
      "----Classification Report for category :category:tools\n",
      "\n",
      "              precision    recall  f1-score   support\n",
      "\n",
      "           0       0.99      1.00      1.00      6473\n",
      "           1       0.00      0.00      0.00        34\n",
      "\n",
      "    accuracy                           0.99      6507\n",
      "   macro avg       0.50      0.50      0.50      6507\n",
      "weighted avg       0.99      0.99      0.99      6507\n",
      "\n",
      "Accuracy 0.9947748578453972\n",
      "\n",
      "F1 0.9921691301746157\n",
      "\n",
      "----Classification Report for category :category:hospitals\n",
      "\n",
      "              precision    recall  f1-score   support\n",
      "\n",
      "           0       0.99      1.00      0.99      6432\n",
      "           1       0.00      0.00      0.00        75\n",
      "\n",
      "    accuracy                           0.99      6507\n",
      "   macro avg       0.49      0.50      0.50      6507\n",
      "weighted avg       0.98      0.99      0.98      6507\n",
      "\n",
      "Accuracy 0.9884739511295528\n",
      "\n",
      "F1 0.9827443316585955\n",
      "\n",
      "----Classification Report for category :category:shops\n",
      "\n",
      "              precision    recall  f1-score   support\n",
      "\n",
      "           0       1.00      1.00      1.00      6482\n",
      "           1       0.00      0.00      0.00        25\n",
      "\n",
      "    accuracy                           1.00      6507\n",
      "   macro avg       0.50      0.50      0.50      6507\n",
      "weighted avg       0.99      1.00      0.99      6507\n",
      "\n",
      "Accuracy 0.996157983709851\n",
      "\n",
      "F1 0.9942406729397573\n",
      "\n",
      "----Classification Report for category :category:aid_centers\n",
      "\n",
      "              precision    recall  f1-score   support\n",
      "\n",
      "           0       0.99      1.00      0.99      6425\n",
      "           1       0.00      0.00      0.00        82\n",
      "\n",
      "    accuracy                           0.99      6507\n",
      "   macro avg       0.49      0.50      0.50      6507\n",
      "weighted avg       0.97      0.99      0.98      6507\n",
      "\n",
      "Accuracy 0.987398186568311\n",
      "\n",
      "F1 0.9811372330190842\n",
      "\n",
      "----Classification Report for category :category:other_infrastructure\n",
      "\n",
      "              precision    recall  f1-score   support\n",
      "\n",
      "           0       0.95      1.00      0.98      6210\n",
      "           1       0.20      0.00      0.01       297\n",
      "\n",
      "    accuracy                           0.95      6507\n",
      "   macro avg       0.58      0.50      0.49      6507\n",
      "weighted avg       0.92      0.95      0.93      6507\n",
      "\n",
      "Accuracy 0.9538958045182112\n",
      "\n",
      "F1 0.9321365376770469\n",
      "\n",
      "----Classification Report for category :category:weather_related\n",
      "\n",
      "              precision    recall  f1-score   support\n",
      "\n",
      "           0       0.87      0.97      0.92      4698\n",
      "           1       0.88      0.62      0.73      1809\n",
      "\n",
      "    accuracy                           0.87      6507\n",
      "   macro avg       0.87      0.79      0.82      6507\n",
      "weighted avg       0.87      0.87      0.86      6507\n",
      "\n",
      "Accuracy 0.8704472106961734\n",
      "\n",
      "F1 0.8628800280160878\n",
      "\n",
      "----Classification Report for category :category:floods\n",
      "\n",
      "              precision    recall  f1-score   support\n",
      "\n",
      "           0       0.94      1.00      0.97      5971\n",
      "           1       0.93      0.34      0.50       536\n",
      "\n",
      "    accuracy                           0.94      6507\n",
      "   macro avg       0.94      0.67      0.73      6507\n",
      "weighted avg       0.94      0.94      0.93      6507\n",
      "\n",
      "Accuracy 0.9434455202090057\n",
      "\n",
      "F1 0.9309850962946835\n",
      "\n",
      "----Classification Report for category :category:storm\n",
      "\n",
      "              precision    recall  f1-score   support\n",
      "\n",
      "           0       0.95      0.99      0.97      5925\n",
      "           1       0.81      0.41      0.55       582\n",
      "\n",
      "    accuracy                           0.94      6507\n",
      "   macro avg       0.88      0.70      0.76      6507\n",
      "weighted avg       0.93      0.94      0.93      6507\n",
      "\n",
      "Accuracy 0.9389887813124328\n",
      "\n",
      "F1 0.9298143322648171\n",
      "\n",
      "----Classification Report for category :category:fire\n",
      "\n",
      "              precision    recall  f1-score   support\n",
      "\n",
      "           0       0.99      1.00      0.99      6436\n",
      "           1       1.00      0.01      0.03        71\n",
      "\n",
      "    accuracy                           0.99      6507\n",
      "   macro avg       0.99      0.51      0.51      6507\n",
      "weighted avg       0.99      0.99      0.98      6507\n",
      "\n",
      "Accuracy 0.9892423543875826\n",
      "\n",
      "F1 0.9840420360161805\n",
      "\n",
      "----Classification Report for category :category:earthquake\n",
      "\n",
      "              precision    recall  f1-score   support\n",
      "\n",
      "           0       0.97      0.99      0.98      5888\n",
      "           1       0.90      0.70      0.79       619\n",
      "\n",
      "    accuracy                           0.96      6507\n",
      "   macro avg       0.93      0.85      0.89      6507\n",
      "weighted avg       0.96      0.96      0.96      6507\n",
      "\n",
      "Accuracy 0.9643460888274167\n",
      "\n",
      "F1 0.9623828817583379\n",
      "\n",
      "----Classification Report for category :category:cold\n",
      "\n",
      "              precision    recall  f1-score   support\n",
      "\n",
      "           0       0.98      1.00      0.99      6378\n",
      "           1       0.80      0.09      0.17       129\n",
      "\n",
      "    accuracy                           0.98      6507\n",
      "   macro avg       0.89      0.55      0.58      6507\n",
      "weighted avg       0.98      0.98      0.97      6507\n",
      "\n",
      "Accuracy 0.9815583218072844\n",
      "\n",
      "F1 0.9743401672862254\n",
      "\n",
      "----Classification Report for category :category:other_weather\n",
      "\n",
      "              precision    recall  f1-score   support\n",
      "\n",
      "           0       0.95      1.00      0.97      6162\n",
      "           1       0.70      0.02      0.04       345\n",
      "\n",
      "    accuracy                           0.95      6507\n",
      "   macro avg       0.82      0.51      0.51      6507\n",
      "weighted avg       0.93      0.95      0.92      6507\n",
      "\n",
      "Accuracy 0.9475948978023667\n",
      "\n",
      "F1 0.923561954982384\n",
      "\n",
      "----Classification Report for category :category:direct_report\n",
      "\n",
      "              precision    recall  f1-score   support\n",
      "\n",
      "           0       0.86      0.99      0.92      5229\n",
      "           1       0.89      0.35      0.51      1278\n",
      "\n",
      "    accuracy                           0.86      6507\n",
      "   macro avg       0.88      0.67      0.71      6507\n",
      "weighted avg       0.87      0.86      0.84      6507\n",
      "\n",
      "Accuracy 0.8646073459351468\n",
      "\n",
      "F1 0.8399177084028022\n",
      "\n",
      "time: 3.17 s (started: 2021-01-05 03:19:11 +01:00)\n"
     ]
    },
    {
     "name": "stderr",
     "output_type": "stream",
     "text": [
      "/home/sfrozy/anaconda3/envs/disaster_response_pipeline/lib/python3.8/site-packages/sklearn/metrics/_classification.py:1221: UndefinedMetricWarning: Precision and F-score are ill-defined and being set to 0.0 in labels with no predicted samples. Use `zero_division` parameter to control this behavior.\n",
      "  _warn_prf(average, modifier, msg_start, len(result))\n"
     ]
    }
   ],
   "source": [
    "def evaluate_model(model, X_test, Y_test, category_names):\n",
    "    Y_pred = model.predict(X_test)\n",
    "\n",
    "    # iterating for each target columns to calculate the f1-score, precision, and accuracy.\n",
    "    for i in range(len(category_names)):\n",
    "        print(f\"----Classification Report for category :{Y.columns[i]}\\n\")\n",
    "        print(classification_report(Y_test.iloc[:, i].values, Y_pred[:, i]))\n",
    "        print(f'Accuracy {accuracy_score(Y_test.iloc[:, i].values, Y_pred[:, i])}\\n')\n",
    "        print(f\"F1 {f1_score(Y_test.iloc[:, i].values, Y_pred[:, i],average='weighted')}\\n\")\n",
    "\n",
    "evaluate_model(rfc_pipeline, X_test, Y_test, list(Y.columns))"
   ],
   "metadata": {
    "collapsed": false,
    "pycharm": {
     "name": "#%%\n"
    }
   }
  },
  {
   "cell_type": "code",
   "execution_count": 17,
   "metadata": {},
   "outputs": [
    {
     "name": "stdout",
     "output_type": "stream",
     "text": [
      "The model accuracy is 0.944\n",
      "time: 2.96 s (started: 2021-01-05 03:19:18 +01:00)\n"
     ]
    }
   ],
   "source": [
    "def display_accuracy(model, Y_test):\n",
    "    Y_pred = model.predict(X_test)\n",
    "\n",
    "    accuracy = (Y_pred == Y_test.values).mean()\n",
    "    print('The model accuracy is {:.3f}'.format(accuracy))\n",
    "\n",
    "display_accuracy(rfc_pipeline, Y_test)"
   ]
  },
  {
   "cell_type": "markdown",
   "metadata": {},
   "source": [
    "### 6. Improve your model\n",
    "Use grid search to find better parameters. "
   ]
  },
  {
   "cell_type": "code",
   "execution_count": null,
   "metadata": {},
   "outputs": [],
   "source": [
    "list(rfc_pipeline.get_params().keys())"
   ]
  },
  {
   "cell_type": "code",
   "execution_count": null,
   "metadata": {},
   "outputs": [],
   "source": [
    "parameters = {\n",
    "        'text_pipeline__tfidf__use_idf': (True, False),\n",
    "        'rfc_classifier__estimator__n_estimators': [10, 20]\n",
    "}\n",
    "cv = GridSearchCV(rfc_pipeline, n_jobs=-1, param_grid=parameters)\n",
    "cv"
   ]
  },
  {
   "cell_type": "markdown",
   "metadata": {},
   "source": [
    "### 7. Test your model\n",
    "Show the accuracy, precision, and recall of the tuned model.  \n",
    "\n",
    "Since this project focuses on code quality, process, and  pipelines, there is no minimum performance metric needed to pass. However, make sure to fine tune your models for accuracy, precision and recall to make your project stand out - especially for your portfolio!"
   ]
  },
  {
   "cell_type": "code",
   "execution_count": null,
   "metadata": {},
   "outputs": [],
   "source": [
    "cv.fit(X_train, Y_train)"
   ]
  },
  {
   "cell_type": "code",
   "execution_count": null,
   "outputs": [],
   "source": [
    "Y_pred = cv.predict(X_test)"
   ],
   "metadata": {
    "collapsed": false,
    "pycharm": {
     "name": "#%%\n"
    }
   }
  },
  {
   "cell_type": "code",
   "execution_count": null,
   "metadata": {},
   "outputs": [],
   "source": [
    "evaluate_model(cv, X_test, Y_test, list(Y.columns))"
   ]
  },
  {
   "cell_type": "code",
   "execution_count": null,
   "outputs": [],
   "source": [
    "display_accuracy(cv, Y_test)"
   ],
   "metadata": {
    "collapsed": false,
    "pycharm": {
     "name": "#%%\n",
     "is_executing": true
    }
   }
  },
  {
   "cell_type": "markdown",
   "metadata": {},
   "source": [
    "### 8. Try improving your model further. Here are a few ideas:\n",
    "* try other machine learning algorithms\n",
    "* add other features besides the TF-IDF"
   ]
  },
  {
   "cell_type": "markdown",
   "metadata": {},
   "source": [
    "=> some Classifier Idea:\n",
    "- AdaBoostClassifier : AdaBoostClassifier()\n",
    "- KNN Classifier : KNeighborsClassifier()\n",
    "- Decision Tree Classifier : DecisionTreeClassifier()\n",
    "- SVM Classifier : SVC()\n",
    "- Naive Bayes Classifier : MultinomialNB()\n",
    "\n",
    "=> but we will try only AdaBoosClassifier, and choose between AdaBoostClassifier or RandomForest\n",
    "\n",
    "---"
   ]
  },
  {
   "cell_type": "code",
   "execution_count": 19,
   "metadata": {},
   "outputs": [
    {
     "name": "stdout",
     "output_type": "stream",
     "text": [
      "The model accuracy is 0.947\n",
      "time: 1min 24s (started: 2021-01-05 03:21:18 +01:00)\n"
     ]
    }
   ],
   "source": [
    "ada_pipeline = Pipeline([\n",
    "        ('text_pipeline', Pipeline([\n",
    "            ('vect', CountVectorizer(tokenizer=tokenize)),\n",
    "            ('tfidf', TfidfTransformer())\n",
    "        ])),\n",
    "        ('classifier', MultiOutputClassifier(AdaBoostClassifier()))\n",
    "    ])\n",
    "\n",
    "ada_pipeline.fit(X_train, Y_train)\n",
    "#evaluate_model(ada_pipeline, X_test, Y_test, list(Y.columns))\n",
    "display_accuracy(ada_pipeline, Y_test)"
   ]
  },
  {
   "cell_type": "markdown",
   "source": [
    "=> The accuracy of ADA Classifier is **higher** than the RandomForestClassifier. (0.944)\n",
    "\n",
    "---"
   ],
   "metadata": {
    "collapsed": false,
    "pycharm": {
     "name": "#%% md\n"
    }
   }
  },
  {
   "cell_type": "code",
   "execution_count": 20,
   "outputs": [
    {
     "name": "stdout",
     "output_type": "stream",
     "text": [
      "The model accuracy is 0.924\n",
      "time: 1min 36s (started: 2021-01-05 02:55:37 +01:00)\n"
     ]
    }
   ],
   "source": [
    "knn_pipeline = Pipeline([\n",
    "        ('text_pipeline', Pipeline([\n",
    "            ('vect', CountVectorizer(tokenizer=tokenize)),\n",
    "            ('tfidf', TfidfTransformer())\n",
    "        ])),\n",
    "        ('classifier', MultiOutputClassifier(KNeighborsClassifier(n_jobs=-1)))\n",
    "    ])\n",
    "\n",
    "knn_pipeline.fit(X_train, Y_train)\n",
    "#evaluate_model(knn_pipeline, X_test, Y_test, list(Y.columns))\n",
    "display_accuracy(knn_pipeline, Y_test)"
   ],
   "metadata": {
    "collapsed": false,
    "pycharm": {
     "name": "#%%\n"
    }
   }
  },
  {
   "cell_type": "markdown",
   "source": [
    "=> The accuracy of KNN Classifier is **lower** than the RandomForestClassifier. (0.944)\n",
    "\n",
    "---"
   ],
   "metadata": {
    "collapsed": false
   }
  },
  {
   "cell_type": "code",
   "execution_count": 22,
   "outputs": [
    {
     "name": "stdout",
     "output_type": "stream",
     "text": [
      "The model accuracy is 0.929\n",
      "time: 4min 28s (started: 2021-01-05 02:58:28 +01:00)\n"
     ]
    }
   ],
   "source": [
    "dt_pipeline = Pipeline([\n",
    "        ('text_pipeline', Pipeline([\n",
    "            ('vect', CountVectorizer(tokenizer=tokenize)),\n",
    "            ('tfidf', TfidfTransformer())\n",
    "        ])),\n",
    "        ('classifier', MultiOutputClassifier(DecisionTreeClassifier()))\n",
    "    ])\n",
    "\n",
    "dt_pipeline.fit(X_train, Y_train)\n",
    "#evaluate_model(dt_pipeline, X_test, Y_test, list(Y.columns))\n",
    "display_accuracy(dt_pipeline, Y_test)"
   ],
   "metadata": {
    "collapsed": false,
    "pycharm": {
     "name": "#%%\n"
    }
   }
  },
  {
   "cell_type": "markdown",
   "source": [
    "=> The accuracy of Decision Tree Classifier is **lower** than the RandomForestClassifier. (0.944)\n",
    "\n",
    "---\n"
   ],
   "metadata": {
    "collapsed": false
   }
  },
  {
   "cell_type": "code",
   "execution_count": 18,
   "outputs": [
    {
     "name": "stdout",
     "output_type": "stream",
     "text": [
      "The model accuracy is 0.933\n",
      "time: 5.88 s (started: 2021-01-05 03:19:32 +01:00)\n"
     ]
    }
   ],
   "source": [
    "mb_pipeline = Pipeline([\n",
    "        ('text_pipeline', Pipeline([\n",
    "            ('vect', CountVectorizer(tokenizer=tokenize)),\n",
    "            ('tfidf', TfidfTransformer())\n",
    "        ])),\n",
    "        ('classifier', OneVsRestClassifier(MultinomialNB()))\n",
    "    ])\n",
    "\n",
    "mb_pipeline.fit(X_train, Y_train)\n",
    "#evaluate_model(mb_pipeline, X_test, Y_test, list(Y.columns))\n",
    "display_accuracy(mb_pipeline, Y_test)"
   ],
   "metadata": {
    "collapsed": false,
    "pycharm": {
     "name": "#%%\n"
    }
   }
  },
  {
   "cell_type": "markdown",
   "source": [
    "=> The accuracy of MultinomialNB Classifier is **lower** than the RandomForestClassifier. (0.944)\n",
    "\n",
    "---"
   ],
   "metadata": {
    "collapsed": false
   }
  },
  {
   "cell_type": "markdown",
   "source": [
    "**Conclusion**\n",
    "=> Therefore we will use ADA Classifier to train the model.\n"
   ],
   "metadata": {
    "collapsed": false,
    "pycharm": {
     "name": "#%% md\n"
    }
   }
  },
  {
   "cell_type": "code",
   "execution_count": 20,
   "outputs": [
    {
     "data": {
      "text/plain": "['memory',\n 'steps',\n 'verbose',\n 'text_pipeline',\n 'classifier',\n 'text_pipeline__memory',\n 'text_pipeline__steps',\n 'text_pipeline__verbose',\n 'text_pipeline__vect',\n 'text_pipeline__tfidf',\n 'text_pipeline__vect__analyzer',\n 'text_pipeline__vect__binary',\n 'text_pipeline__vect__decode_error',\n 'text_pipeline__vect__dtype',\n 'text_pipeline__vect__encoding',\n 'text_pipeline__vect__input',\n 'text_pipeline__vect__lowercase',\n 'text_pipeline__vect__max_df',\n 'text_pipeline__vect__max_features',\n 'text_pipeline__vect__min_df',\n 'text_pipeline__vect__ngram_range',\n 'text_pipeline__vect__preprocessor',\n 'text_pipeline__vect__stop_words',\n 'text_pipeline__vect__strip_accents',\n 'text_pipeline__vect__token_pattern',\n 'text_pipeline__vect__tokenizer',\n 'text_pipeline__vect__vocabulary',\n 'text_pipeline__tfidf__norm',\n 'text_pipeline__tfidf__smooth_idf',\n 'text_pipeline__tfidf__sublinear_tf',\n 'text_pipeline__tfidf__use_idf',\n 'classifier__estimator__algorithm',\n 'classifier__estimator__base_estimator',\n 'classifier__estimator__learning_rate',\n 'classifier__estimator__n_estimators',\n 'classifier__estimator__random_state',\n 'classifier__estimator',\n 'classifier__n_jobs']"
     },
     "execution_count": 20,
     "metadata": {},
     "output_type": "execute_result"
    },
    {
     "name": "stdout",
     "output_type": "stream",
     "text": [
      "time: 2.93 ms (started: 2021-01-05 03:23:27 +01:00)\n"
     ]
    }
   ],
   "source": [
    "list(ada_pipeline.get_params().keys())"
   ],
   "metadata": {
    "collapsed": false,
    "pycharm": {
     "name": "#%%\n"
    }
   }
  },
  {
   "cell_type": "markdown",
   "metadata": {},
   "source": [
    "### 9. Export your model as a pickle file"
   ]
  },
  {
   "cell_type": "code",
   "execution_count": 61,
   "outputs": [
    {
     "name": "stdout",
     "output_type": "stream",
     "text": [
      "time: 783 ms (started: 2021-01-05 01:07:19 +01:00)\n"
     ]
    }
   ],
   "source": [
    "model_base_folder = 'models'\n",
    "if not os.path.exists(model_base_folder):\n",
    "    os.makedirs(model_base_folder)\n",
    "\n",
    "# create a pickle file for the model\n",
    "file_name = f'{model_base_folder}/classifier.pkl'\n",
    "with open (file_name, 'wb') as f:\n",
    "    pickle.dump(cv, f)\n",
    "    f.close()"
   ],
   "metadata": {
    "collapsed": false,
    "pycharm": {
     "name": "#%%\n"
    }
   }
  },
  {
   "cell_type": "markdown",
   "source": [
    "### 10. Use this notebook to complete `train.py`\n",
    "Use the template file attached in the Resources folder to write a script that runs the steps above to create a database and export a model based on a new dataset specified by the user."
   ],
   "metadata": {
    "collapsed": false
   }
  },
  {
   "cell_type": "code",
   "execution_count": null,
   "metadata": {},
   "outputs": [],
   "source": [
    "# see `models/train_classifier.py`"
   ]
  },
  {
   "cell_type": "markdown",
   "source": [
    "### 11. Prepare query for the flask visualization\n",
    "- Frequency of the category in the dataset"
   ],
   "metadata": {
    "collapsed": false
   }
  },
  {
   "cell_type": "code",
   "execution_count": 59,
   "outputs": [
    {
     "name": "stdout",
     "output_type": "stream",
     "text": [
      "related has 19906 \n",
      "request has 4474 \n",
      "offer has 118 \n",
      "aid_related has 10860 \n",
      "medical_help has 2084 \n",
      "medical_products has 1313 \n",
      "search_and_rescue has 724 \n",
      "security has 471 \n",
      "military has 860 \n",
      "child_alone has 0 \n",
      "water has 1672 \n",
      "food has 2923 \n",
      "shelter has 2314 \n",
      "clothing has 405 \n",
      "money has 604 \n",
      "missing_people has 298 \n",
      "refugees has 875 \n",
      "death has 1194 \n",
      "other_aid has 3446 \n",
      "infrastructure_related has 1705 \n",
      "transport has 1201 \n",
      "buildings has 1333 \n",
      "electricity has 532 \n",
      "tools has 159 \n",
      "hospitals has 283 \n",
      "shops has 120 \n",
      "aid_centers has 309 \n",
      "other_infrastructure has 1151 \n",
      "weather_related has 7297 \n",
      "floods has 2155 \n",
      "storm has 2443 \n",
      "fire has 282 \n",
      "earthquake has 2455 \n",
      "cold has 530 \n",
      "other_weather has 1376 \n",
      "direct_report has 5075 \n",
      "time: 27 ms (started: 2021-01-04 23:45:27 +01:00)\n"
     ]
    },
    {
     "data": {
      "text/plain": "       category  frequency\n0       related      19906\n1       request       4474\n2         offer        118\n3   aid_related      10860\n4  medical_help       2084",
      "text/html": "<div>\n<style scoped>\n    .dataframe tbody tr th:only-of-type {\n        vertical-align: middle;\n    }\n\n    .dataframe tbody tr th {\n        vertical-align: top;\n    }\n\n    .dataframe thead th {\n        text-align: right;\n    }\n</style>\n<table border=\"1\" class=\"dataframe\">\n  <thead>\n    <tr style=\"text-align: right;\">\n      <th></th>\n      <th>category</th>\n      <th>frequency</th>\n    </tr>\n  </thead>\n  <tbody>\n    <tr>\n      <th>0</th>\n      <td>related</td>\n      <td>19906</td>\n    </tr>\n    <tr>\n      <th>1</th>\n      <td>request</td>\n      <td>4474</td>\n    </tr>\n    <tr>\n      <th>2</th>\n      <td>offer</td>\n      <td>118</td>\n    </tr>\n    <tr>\n      <th>3</th>\n      <td>aid_related</td>\n      <td>10860</td>\n    </tr>\n    <tr>\n      <th>4</th>\n      <td>medical_help</td>\n      <td>2084</td>\n    </tr>\n  </tbody>\n</table>\n</div>"
     },
     "execution_count": 59,
     "metadata": {},
     "output_type": "execute_result"
    }
   ],
   "source": [
    "def calculate_target_frequency(y):\n",
    "    cats = []\n",
    "    frequency = []\n",
    "    for col in Y.columns:\n",
    "        print(f'{col[9:]} has {Y[col][Y[col] == True].sum()} ')\n",
    "        cats.append(col[9:])\n",
    "        frequency.append(Y[col][Y[col] == True].sum())\n",
    "\n",
    "    return pd.DataFrame({'category': cats, 'frequency': frequency})\n",
    "\n"
   ],
   "metadata": {
    "collapsed": false,
    "pycharm": {
     "name": "#%%\n"
    }
   }
  }
 ],
 "metadata": {
  "kernelspec": {
   "display_name": "Python 3",
   "language": "python",
   "name": "python3"
  },
  "language_info": {
   "codemirror_mode": {
    "name": "ipython",
    "version": 3
   },
   "file_extension": ".py",
   "mimetype": "text/x-python",
   "name": "python",
   "nbconvert_exporter": "python",
   "pygments_lexer": "ipython3",
   "version": "3.6.3"
  }
 },
 "nbformat": 4,
 "nbformat_minor": 2
}